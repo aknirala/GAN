{
 "cells": [
  {
   "cell_type": "code",
   "execution_count": 1,
   "metadata": {},
   "outputs": [],
   "source": [
    "\"\"\"\n",
    "Aftrer downloading a jupyter notebook as .py run this command on that to create a new better file.\n",
    "\"\"\"\n",
    "import sys\n",
    "sys.argv = ['main', \"trainG.py\"] \n",
    "%config Completer.use_jedi=False"
   ]
  },
  {
   "cell_type": "code",
   "execution_count": 2,
   "metadata": {},
   "outputs": [],
   "source": [
    "if len(sys.argv) < 2:\n",
    "    print(\"Please specify the file name.\")\n",
    "    exit()\n",
    "with open(sys.argv[1], \"r\") as f:\n",
    "    lines = f.readlines()\n"
   ]
  },
  {
   "cell_type": "code",
   "execution_count": 3,
   "metadata": {},
   "outputs": [],
   "source": [
    "new_lines = []\n",
    "run_command = \"get_ipython().run_line_magic('run', \"\n",
    "other_com = \"get_ipython().run_line_magic(\"\n",
    "toRemove = [ '#!/usr/bin/env python\\n', '# coding: utf-8\\n',]\n",
    "for line in lines:\n",
    "    if line.startswith(run_command):\n",
    "        f_name = line[len(run_command)+1:-3]\n",
    "        if not f_name.endswith(\".ipynb\"):\n",
    "            print(\"running something other that ipynb!! will copy as it is\")\n",
    "        else:\n",
    "            f_name = f_name[:-5]+\"py\"\n",
    "        all_file_lines = []\n",
    "        with open(f_name, \"r\") as f:\n",
    "            all_file_lines = f.readlines()\n",
    "        for r in toRemove:\n",
    "            all_file_lines.remove(r)\n",
    "        new_lines += all_file_lines\n",
    "    elif line.startswith(other_com):\n",
    "        pass\n",
    "    else:\n",
    "        new_lines.append(line)"
   ]
  },
  {
   "cell_type": "code",
   "execution_count": 4,
   "metadata": {},
   "outputs": [],
   "source": [
    "#print(\"\".join(new_lines))\n",
    "\n",
    "with open(sys.argv[1], \"w\") as f:\n",
    "    f.write(\"\".join(new_lines))\n"
   ]
  },
  {
   "cell_type": "code",
   "execution_count": 5,
   "metadata": {},
   "outputs": [
    {
     "name": "stdout",
     "output_type": "stream",
     "text": [
      "soloArch.ipynb\tsoloArch_zhm-Copy1.ipynb  soloArch_zhm.py\r\n",
      "soloArch.py\tsoloArch_zhm.ipynb\r\n",
      "\r\n",
      "soloArch_zhm_pre_0430_180928:\r\n",
      "D_10000.mdl  frame11.jpg  frame9.jpg\t\t\t    oToPickle_10000.mdl\r\n",
      "D_1000.mdl   frame12.jpg  G_10000.mdl\t\t\t    oToPickle_1000.mdl\r\n",
      "D_15000.mdl  frame13.jpg  G_1000.mdl\t\t\t    oToPickle_15000.mdl\r\n",
      "D_20000.mdl  frame14.jpg  G_15000.mdl\t\t\t    oToPickle_20000.mdl\r\n",
      "D_2000.mdl   frame15.jpg  G_20000.mdl\t\t\t    oToPickle_2000.mdl\r\n",
      "D_200.mdl    frame16.jpg  G_2000.mdl\t\t\t    oToPickle_200.mdl\r\n",
      "D_25000.mdl  frame17.jpg  G_200.mdl\t\t\t    oToPickle_25000.mdl\r\n",
      "D_30000.mdl  frame18.jpg  G_25000.mdl\t\t\t    oToPickle_30000.mdl\r\n",
      "D_35000.mdl  frame1.jpg   G_30000.mdl\t\t\t    oToPickle_35000.mdl\r\n",
      "D_40000.mdl  frame2.jpg   G_35000.mdl\t\t\t    oToPickle_40000.mdl\r\n",
      "D_5000.mdl   frame3.jpg   G_40000.mdl\t\t\t    oToPickle_5000.mdl\r\n",
      "D_500.mdl    frame4.jpg   G_5000.mdl\t\t\t    oToPickle_500.mdl\r\n",
      "DEC_LS.pkl   frame5.jpg   G_500.mdl\t\t\t    R_COST.pkl\r\n",
      "F_COST.pkl   frame6.jpg   G_COST.pkl\t\t\t    W_DIST.pkl\r\n",
      "frame0.jpg   frame7.jpg   GP.pkl\r\n",
      "frame10.jpg  frame8.jpg   LOG_soloArch_zhm_0430_180928.log\r\n"
     ]
    }
   ],
   "source": [
    "!ls solo*"
   ]
  },
  {
   "cell_type": "code",
   "execution_count": null,
   "metadata": {},
   "outputs": [],
   "source": []
  }
 ],
 "metadata": {
  "kernelspec": {
   "display_name": "Python [conda env:gan_37]",
   "language": "python",
   "name": "conda-env-gan_37-py"
  },
  "language_info": {
   "codemirror_mode": {
    "name": "ipython",
    "version": 3
   },
   "file_extension": ".py",
   "mimetype": "text/x-python",
   "name": "python",
   "nbconvert_exporter": "python",
   "pygments_lexer": "ipython3",
   "version": "3.7.0"
  }
 },
 "nbformat": 4,
 "nbformat_minor": 4
}
